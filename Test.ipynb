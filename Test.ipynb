{
 "cells": [
  {
   "cell_type": "code",
   "execution_count": 1,
   "metadata": {
    "ExecuteTime": {
     "end_time": "2020-05-12T06:07:09.814599Z",
     "start_time": "2020-05-12T06:06:49.566461Z"
    }
   },
   "outputs": [
    {
     "name": "stdout",
     "output_type": "stream",
     "text": [
      "Collecting alphashape\n",
      "  Downloading https://files.pythonhosted.org/packages/2b/40/24d47ec648d525051b30117c41708311daca4ca5d640ca0cca1fc2b9ca50/alphashape-1.0.2-py2.py3-none-any.whl\n",
      "Requirement already satisfied: shapely>=1.4.0 in c:\\users\\lijunjie3\\appdata\\local\\continuum\\anaconda3\\lib\\site-packages (from alphashape) (1.7.0)\n",
      "Collecting click-log>=0.3.2 (from alphashape)\n",
      "  Downloading https://files.pythonhosted.org/packages/38/52/a9dbb622f40ceeb09df141d855062cc9fbb38011f0ad8caee0cd840f399c/click_log-0.3.2-py2.py3-none-any.whl\n",
      "Requirement already satisfied: Click>=6.0 in c:\\users\\lijunjie3\\appdata\\local\\continuum\\anaconda3\\lib\\site-packages (from alphashape) (7.0)\n",
      "Requirement already satisfied: scipy>=1.0.0 in c:\\users\\lijunjie3\\appdata\\local\\continuum\\anaconda3\\lib\\site-packages (from alphashape) (1.2.1)\n",
      "Installing collected packages: click-log, alphashape\n",
      "Successfully installed alphashape-1.0.2 click-log-0.3.2\n"
     ]
    }
   ],
   "source": [
    "!pip install alphashape"
   ]
  },
  {
   "cell_type": "code",
   "execution_count": null,
   "metadata": {},
   "outputs": [],
   "source": []
  }
 ],
 "metadata": {
  "kernelspec": {
   "display_name": "Python 3",
   "language": "python",
   "name": "python3"
  },
  "language_info": {
   "codemirror_mode": {
    "name": "ipython",
    "version": 3
   },
   "file_extension": ".py",
   "mimetype": "text/x-python",
   "name": "python",
   "nbconvert_exporter": "python",
   "pygments_lexer": "ipython3",
   "version": "3.7.3"
  },
  "toc": {
   "base_numbering": 1,
   "nav_menu": {},
   "number_sections": true,
   "sideBar": true,
   "skip_h1_title": false,
   "title_cell": "Table of Contents",
   "title_sidebar": "Contents",
   "toc_cell": false,
   "toc_position": {},
   "toc_section_display": true,
   "toc_window_display": false
  }
 },
 "nbformat": 4,
 "nbformat_minor": 2
}
