{
 "cells": [
  {
   "cell_type": "markdown",
   "metadata": {},
   "source": [
    "# 将一个文件夹下的所有 erg 文件合并为一个 csv"
   ]
  },
  {
   "cell_type": "code",
   "execution_count": 1,
   "metadata": {},
   "outputs": [],
   "source": [
    "from file_operator import handle_ergs"
   ]
  },
  {
   "cell_type": "code",
   "execution_count": 2,
   "metadata": {},
   "outputs": [],
   "source": [
    "path = r\"C:\\Users\\lijunjie3\\Desktop\\tmp\"   # 文件夹路径"
   ]
  },
  {
   "cell_type": "code",
   "execution_count": 8,
   "metadata": {},
   "outputs": [],
   "source": [
    "handle_ergs(path, merge=True)"
   ]
  },
  {
   "cell_type": "markdown",
   "metadata": {},
   "source": [
    "# 将一个文件夹下的所有 erg 文件转换为单独的 csv"
   ]
  },
  {
   "cell_type": "code",
   "execution_count": 5,
   "metadata": {},
   "outputs": [],
   "source": [
    "from file_operator import handle_ergs"
   ]
  },
  {
   "cell_type": "code",
   "execution_count": 6,
   "metadata": {},
   "outputs": [],
   "source": [
    "path = r\"C:\\Users\\lijunjie3\\Desktop\\tmp\"   # 文件夹路径"
   ]
  },
  {
   "cell_type": "code",
   "execution_count": 7,
   "metadata": {},
   "outputs": [],
   "source": [
    "handle_ergs(path)"
   ]
  },
  {
   "cell_type": "markdown",
   "metadata": {},
   "source": [
    "# 对一个文件夹下的所有 csv 文件按工况点求均值"
   ]
  },
  {
   "cell_type": "code",
   "execution_count": 1,
   "metadata": {},
   "outputs": [],
   "source": [
    "from file_operator import get_average"
   ]
  },
  {
   "cell_type": "code",
   "execution_count": 2,
   "metadata": {},
   "outputs": [],
   "source": [
    "path = r\"C:\\Users\\lijunjie3\\Desktop\\tmp\"   # 文件夹路径\n",
    "flag = 'speed_step'  # 工况点标识位\n",
    "handle_error_data = True  # True: 处理功率分析仪异常点  False:不外理功率分析仪异常点\n",
    "PA_signal = 'PA1_PM [W]'  # 外理功率分析仪异常点时，所需用到的信号"
   ]
  },
  {
   "cell_type": "code",
   "execution_count": 3,
   "metadata": {},
   "outputs": [],
   "source": [
    "'''\n",
    "flag 为工况点标志信号\n",
    "head 为 True， 表示取前 line_count 个信号\n",
    "head 为 False， 表示取后 line_count 个信号\n",
    "hand_error_data 为 True， 表示会处理功率分析仪的异常信号，为 False，则不会处理\n",
    "'''\n",
    "\n",
    "\n",
    "\n",
    "get_average(path, flag='speed_step', handle_error_data=True, PA_signal=PA_signal, head=True, line_count=None)"
   ]
  },
  {
   "cell_type": "markdown",
   "metadata": {},
   "source": [
    "# 递归的处理文件夹中的所有 erg 文件并求平均值"
   ]
  },
  {
   "cell_type": "code",
   "execution_count": 1,
   "metadata": {},
   "outputs": [],
   "source": [
    "import os\n",
    "from file_operator import FileOperator"
   ]
  },
  {
   "cell_type": "code",
   "execution_count": 2,
   "metadata": {},
   "outputs": [
    {
     "name": "stdout",
     "output_type": "stream",
     "text": [
      "D:\\工作\\2020\\3月\\result\\efficiency\\Generator\\270V\\Average_efficiency_Generator_270V.csv\n",
      "D:\\工作\\2020\\3月\\result\\efficiency\\Generator\\335V\\Average_efficiency_Generator_335V.csv\n",
      "D:\\工作\\2020\\3月\\result\\efficiency\\Generator\\400V\\Average_efficiency_Generator_400V.csv\n",
      "D:\\工作\\2020\\3月\\result\\efficiency\\Motor\\270V\\Average_efficiency_Motor_270V.csv\n",
      "D:\\工作\\2020\\3月\\result\\efficiency\\Motor\\335V\\Average_efficiency_Motor_335V.csv\n",
      "D:\\工作\\2020\\3月\\result\\efficiency\\Motor\\400V\\Average_efficiency_Motor_400V.csv\n",
      "D:\\工作\\2020\\3月\\result\\torque_characteristic\\Gen\\270V\\10s\\Average_torque_characteristic_Gen_270V_10s.csv\n",
      "D:\\工作\\2020\\3月\\result\\torque_characteristic\\Gen\\270V\\60s\\Average_torque_characteristic_Gen_270V_60s.csv\n",
      "D:\\工作\\2020\\3月\\result\\torque_characteristic\\Gen\\400V\\10s\\Average_torque_characteristic_Gen_400V_10s.csv\n",
      "D:\\工作\\2020\\3月\\result\\torque_characteristic\\Gen\\400V\\60s\\Average_torque_characteristic_Gen_400V_60s.csv\n",
      "D:\\工作\\2020\\3月\\result\\torque_characteristic\\Motor\\270V\\10s\\Average_torque_characteristic_Motor_270V_10s.csv\n",
      "D:\\工作\\2020\\3月\\result\\torque_characteristic\\Motor\\270V\\60s\\Average_torque_characteristic_Motor_270V_60s.csv\n",
      "D:\\工作\\2020\\3月\\result\\torque_characteristic\\Motor\\400V\\10s\\Average_torque_characteristic_Motor_400V_10s.csv\n",
      "D:\\工作\\2020\\3月\\result\\torque_characteristic\\Motor\\400V\\60s\\Average_torque_characteristic_Motor_400V_60s.csv\n"
     ]
    }
   ],
   "source": [
    "path = r\"D:\\工作\\2020\\3月\\UAES_C1.1_SPLIT\"\n",
    "for root, dirs, _ in os.walk(path):\n",
    "    for directory in dirs:\n",
    "        sub_path = os.path.join(root, directory)\n",
    "        _file_name =  \"_\".join(sub_path.split(os.path.sep)[len( path.split(os.path.sep) ):])\n",
    "        result_dir = os.sep.join(path.split(os.sep)[:-1] + ['result']\n",
    "                + sub_path.split(os.path.sep)[len(path.split(os.path.sep) ):])\n",
    "        file_operator = FileOperator(sub_path, result_dir)\n",
    "        file_operator.get_ergs()\n",
    "        if file_operator.erg_files:\n",
    "            file_name = os.path.join(result_dir,_file_name+\".csv\")\n",
    "            file_operator.handle_ergs(merge=True, file_name=file_name)\n",
    "            new_file_operator = FileOperator(result_dir)\n",
    "            file_name = os.path.join(result_dir,\"Average_\"+_file_name+\".csv\")\n",
    "            new_file_operator.get_average(file_name=file_name, line_count=200)"
   ]
  },
  {
   "cell_type": "code",
   "execution_count": 28,
   "metadata": {},
   "outputs": [
    {
     "data": {
      "text/plain": [
       "'D:\\\\工作\\\\2020\\\\3月\\\\result'"
      ]
     },
     "execution_count": 28,
     "metadata": {},
     "output_type": "execute_result"
    }
   ],
   "source": [
    "os.sep.join(path.split(os.sep)[:-1] + ['result'])"
   ]
  },
  {
   "cell_type": "code",
   "execution_count": 3,
   "metadata": {},
   "outputs": [
    {
     "data": {
      "text/plain": [
       "<function os.makedirs(name, mode=511, exist_ok=False)>"
      ]
     },
     "execution_count": 3,
     "metadata": {},
     "output_type": "execute_result"
    }
   ],
   "source": [
    "os.makedirs"
   ]
  },
  {
   "cell_type": "code",
   "execution_count": null,
   "metadata": {},
   "outputs": [],
   "source": []
  }
 ],
 "metadata": {
  "kernelspec": {
   "display_name": "Python 3",
   "language": "python",
   "name": "python3"
  },
  "language_info": {
   "codemirror_mode": {
    "name": "ipython",
    "version": 3
   },
   "file_extension": ".py",
   "mimetype": "text/x-python",
   "name": "python",
   "nbconvert_exporter": "python",
   "pygments_lexer": "ipython3",
   "version": "3.7.3"
  },
  "toc": {
   "base_numbering": 1,
   "nav_menu": {},
   "number_sections": true,
   "sideBar": true,
   "skip_h1_title": false,
   "title_cell": "Table of Contents",
   "title_sidebar": "Contents",
   "toc_cell": false,
   "toc_position": {},
   "toc_section_display": true,
   "toc_window_display": false
  }
 },
 "nbformat": 4,
 "nbformat_minor": 2
}
